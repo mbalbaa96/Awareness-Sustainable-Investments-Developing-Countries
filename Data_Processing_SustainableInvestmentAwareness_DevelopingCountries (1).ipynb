{
 "cells": [
  {
   "cell_type": "code",
   "execution_count": 4,
   "id": "f9e32513",
   "metadata": {},
   "outputs": [],
   "source": [
    "import numpy as np\n",
    "import pandas as pd\n",
    "import matplotlib.pyplot as plt\n",
    "import seaborn as sns\n",
    "from scipy.stats.mstats import winsorize\n",
    "from scipy.stats import zscore\n",
    "from scipy.stats import ttest_rel\n",
    "#import warnings\n",
    "#warnings.filterwarnings('ignore')"
   ]
  },
  {
   "cell_type": "code",
   "execution_count": 7,
   "id": "e681c3ff",
   "metadata": {},
   "outputs": [],
   "source": [
    "# Drop rows where 'StartDate' is equal to \"Start Date\"\n",
    "df = df[df[\"StartDate\"] != \"Start Date\"]"
   ]
  },
  {
   "cell_type": "code",
   "execution_count": 8,
   "id": "7c5281a5",
   "metadata": {},
   "outputs": [],
   "source": [
    "# Drop data where subjects haven't finished the experiment\n",
    "df = df[df[\"Finished\"] != \"0\"]"
   ]
  },
  {
   "cell_type": "code",
   "execution_count": 9,
   "id": "b332945e",
   "metadata": {},
   "outputs": [],
   "source": [
    "df['id']=df.index"
   ]
  },
  {
   "cell_type": "code",
   "execution_count": 56,
   "id": "231aa26f",
   "metadata": {},
   "outputs": [],
   "source": [
    "df['id']"
   ]
  },
  {
   "cell_type": "code",
   "execution_count": 11,
   "id": "22e2d73f",
   "metadata": {},
   "outputs": [],
   "source": [
    "# Define control and treatment groups\n",
    "df[\"Condition\"] = df[\"Condition\"].replace({\"Control\": \"0\", \"Treatment\": \"1\"})\n",
    "\n",
    "df[[\"Condition\"]].head(20);"
   ]
  },
  {
   "cell_type": "code",
   "execution_count": 12,
   "id": "d5899aef",
   "metadata": {},
   "outputs": [],
   "source": [
    "# Assign WTP_Fund columns\n",
    "df[\"WTP_Poverty_Fund\"] = df[\"WTP_Poverty_Fund\"].replace({\"Fund_A\": \"1\", \"Fund_B\": \"2\"})\n",
    "df[\"WTP_Climate_Fund\"] = df[\"WTP_Climate_Fund\"].replace({\"Fund_A\": \"1\", \"Fund_B\": \"2\"})\n",
    "df[\"WTP_DecentWork_Fund\"] = df[\"WTP_DecentWork_Fund\"].replace({\"Fund_A\": \"1\", \"Fund_B\": \"2\"})\n",
    "df[\"WTP_Gender_Fund\"] = df[\"WTP_Gender_Fund\"].replace({\"Fund_A\": \"1\", \"Fund_B\": \"2\"})"
   ]
  },
  {
   "cell_type": "code",
   "execution_count": 58,
   "id": "399abafd",
   "metadata": {},
   "outputs": [],
   "source": [
    "#check whether there are other nationalities\n",
    "df[\"ifother_Nationality\"].unique()"
   ]
  },
  {
   "cell_type": "code",
   "execution_count": 14,
   "id": "280f40c4",
   "metadata": {},
   "outputs": [],
   "source": [
    "# create a variable for developing countries which is the default with 1\n",
    "df[\"developing_country\"] = 1"
   ]
  },
  {
   "cell_type": "code",
   "execution_count": 15,
   "id": "1957b4a4",
   "metadata": {},
   "outputs": [],
   "source": [
    "# Replace 'developing_country' with 0 if the nationality is in the specified list of non-developing countries\n",
    "df.loc[df[\"ifother_Nationality\"].isin([\"German\", \"American\", \"Canadian\", \"-\"]), \"developing_country\"] = 0"
   ]
  },
  {
   "cell_type": "code",
   "execution_count": 16,
   "id": "40312e46",
   "metadata": {},
   "outputs": [],
   "source": [
    "#check correct assignment to developing country\n",
    "df[[\"ifother_Nationality\", \"developing_country\"]].sample(50);"
   ]
  },
  {
   "cell_type": "code",
   "execution_count": 59,
   "id": "cc45e6ed",
   "metadata": {},
   "outputs": [],
   "source": [
    "df[df[\"developing_country\"] == 0][[\"ifother_Nationality\", \"developing_country\"]]"
   ]
  },
  {
   "cell_type": "code",
   "execution_count": 18,
   "id": "8aa75c29",
   "metadata": {},
   "outputs": [],
   "source": [
    "#drop subjects from non-developing countries\n",
    "df=df[df['developing_country'] != 0]"
   ]
  },
  {
   "cell_type": "code",
   "execution_count": 19,
   "id": "266ba725",
   "metadata": {},
   "outputs": [],
   "source": [
    "#drop subject who had to retake the experiment\n",
    "df=df[df['id'] != 95]"
   ]
  },
  {
   "cell_type": "code",
   "execution_count": 21,
   "id": "f6e5078a",
   "metadata": {},
   "outputs": [],
   "source": [
    "#Recode the variables for future analysis\n",
    "df.loc[df[\"Gender\"] == 2, \"Gender\"] = 0\n",
    "df.loc[df[\"Gender\"] == 3, \"Gender\"] = 0\n",
    "\n",
    "df.loc[df[\"Awareness_SustainInv\"] == 2, \"Awareness_SustainInv\"] = 0\n",
    "\n",
    "df['Education'].value_counts()\n",
    "df[\"High_Education\"] = 0\n",
    "df.loc[(df[\"Education\"] > 1) & (df[\"Education\"] < 5), \"High_Education\"] = 1\n",
    "\n",
    "\n",
    "df[\"Low_Income\"] = 0\n",
    "df.loc[df[\"Income\"].isin([1, 2]), \"Low_Income\"] = 1\n",
    "\n",
    "df[\"High_Income\"] = 0\n",
    "df.loc[df[\"Income\"].isin([3, 4, 5]), \"High_Income\"] = 1\n",
    "\n",
    "\n",
    "df[\"High_Share_SRI\"] = 0\n",
    "#df.loc[(df[\"ShareSustainInvest\"] < 4) & (df[\"ShareSustainInvest\"].notna()) | (df[\"ShareSustainInvest\"] == 8), \"High_Share_SRI\"] = 0\n",
    "df.loc[(df[\"ShareSustainInvest\"] >= 4) & (df[\"ShareSustainInvest\"].notna()) & (df[\"ShareSustainInvest\"] != 8), \"High_Share_SRI\"] = 1\n",
    "\n",
    "\n",
    "df[\"Share_SRI_smaller20\"] = 0\n",
    "df.loc[(df[\"ShareSustainInvest\"] <= 2) & (df[\"ShareSustainInvest\"].notna()), \"Share_SRI_smaller20\"] = 1\n",
    "#df.loc[(df[\"ShareSustainInvest\"] > 2) & (df[\"ShareSustainInvest\"].notna()), \"Share_SRI_smaller20\"] = 0\n"
   ]
  },
  {
   "cell_type": "code",
   "execution_count": 22,
   "id": "035a285f",
   "metadata": {
    "scrolled": true
   },
   "outputs": [],
   "source": [
    "#check recoding worked\n",
    "df[['Low_Income', 'High_Income','Income']].sample(50);"
   ]
  },
  {
   "cell_type": "code",
   "execution_count": 23,
   "id": "333f5c2a",
   "metadata": {},
   "outputs": [],
   "source": [
    "df[[\"Share_SRI_smaller20\",\"ShareSustainInvest\"]];"
   ]
  },
  {
   "cell_type": "code",
   "execution_count": 24,
   "id": "e842cbbe",
   "metadata": {},
   "outputs": [],
   "source": [
    "df[['High_Education', 'Education']].sample(100);"
   ]
  },
  {
   "cell_type": "code",
   "execution_count": 62,
   "id": "d40afef6",
   "metadata": {},
   "outputs": [],
   "source": [
    "df.shape[0];"
   ]
  },
  {
   "cell_type": "code",
   "execution_count": 26,
   "id": "b22680e4",
   "metadata": {},
   "outputs": [],
   "source": [
    "df=df.rename(columns={\"Q463\": \"ClimateMortality_Post\" , \"Q465\" : \"ClimateEmissions_Post\"})"
   ]
  },
  {
   "cell_type": "code",
   "execution_count": 29,
   "id": "584aa6ec",
   "metadata": {},
   "outputs": [],
   "source": [
    "#Winsorize prior and posterior severity beliefs data\n",
    "# Define the function to winsorize \n",
    "def winsorize_column(series, lower=5, upper=95):\n",
    "    return winsorize(series, limits=(lower / 100, (100 - upper) / 100))\n",
    "\n",
    "# List of prior severity belief data columns to winsorize\n",
    "cols_to_winsorize = [\n",
    "    \"Poverty_Food\", \"Poverty_Line\", \"Q_Economic_Informal\", \"Q_Economic_Umemploy\",\n",
    "    \"Q_Gender_Parliament\", \"Q_Gender_WageGap\", \"Q_Climate_Mortality\", \"Q_Climate_Emissions\"\n",
    "]\n",
    "\n",
    "# Apply winsorization and create new columns with '_w' suffix\n",
    "for col in cols_to_winsorize:\n",
    "    df[col + \"_w\"] = winsorize_column(df[col])\n",
    " \n",
    "\n",
    "# List of posterior severity belief data columns to winsorize by 'Condition'\n",
    "cols_to_winsorize_by_condition = [\n",
    "    \"Poverty_Food_Post\", \"Poverty_Line_Post\", \"DecentWork_IEmp_Post\", \"DecentWork_Unem_Post\",\n",
    "    \"Gender_Parl_Post\", \"Gender_Gap_Post\", \"ClimateMortality_Post\", \"ClimateEmissions_Post\"\n",
    "]\n",
    "\n",
    "# Apply winsorization within each 'Condition' group\n",
    "for col in cols_to_winsorize_by_condition:\n",
    "    df[col + \"_w\"] = df.groupby(\"Condition\", group_keys=False)[col].apply(winsorize_column)\n"
   ]
  },
  {
   "cell_type": "code",
   "execution_count": 31,
   "id": "36e842a2",
   "metadata": {},
   "outputs": [],
   "source": [
    "# Create standardized measures for social, risk and time preferences\n",
    "df[\"SocialPreferences1_1\"] = pd.to_numeric(df[\"SocialPreferences1_1\"], errors=\"coerce\")\n",
    "df[\"SocialPreferenceDona_1\"] = pd.to_numeric(df[\"SocialPreferenceDona_1\"], errors=\"coerce\")\n",
    "\n",
    "# z-score normalization\n",
    "df[\"SocialPreferences1_1_std\"] = zscore(df[\"SocialPreferences1_1\"].dropna())\n",
    "df[\"SocialPreferenceDona_1_std\"] = zscore(df[\"SocialPreferenceDona_1\"].dropna())\n",
    "\n",
    "# Define Social Preferences as a weighted measure according to Falk et al. (2023)\n",
    "df[\"social_preferences\"] = (0.635 * df[\"SocialPreferences1_1_std\"] + \n",
    "                            0.365 * df[\"SocialPreferenceDona_1_std\"])\n",
    "\n",
    "# Standardize the weighted Social Preferences measure \n",
    "df[\"Social_Preferences_std\"] = zscore(df[\"social_preferences\"])\n",
    "\n",
    "# Standardize Risk Preferences\n",
    "df[\"RiskPreferences_1\"] = pd.to_numeric(df[\"RiskPreferences_1\"], errors=\"coerce\")\n",
    "df[\"RiskPreferences_1_std\"] = zscore(df[\"RiskPreferences_1\"])\n",
    "\n",
    "# Standardize Time Preferences\n",
    "df[\"Timepreferences_1\"] = pd.to_numeric(df[\"Timepreferences_1\"], errors=\"coerce\")\n",
    "df[\"TimePreferences_1_std\"] = zscore(df[\"Timepreferences_1\"])\n"
   ]
  },
  {
   "cell_type": "code",
   "execution_count": 65,
   "id": "2a782218",
   "metadata": {},
   "outputs": [],
   "source": [
    "df['FinancialLiteracy1'].unique()"
   ]
  },
  {
   "cell_type": "code",
   "execution_count": 67,
   "id": "2df18a81",
   "metadata": {},
   "outputs": [],
   "source": [
    "df['FinancialLiteracy2'].unique()"
   ]
  },
  {
   "cell_type": "code",
   "execution_count": 68,
   "id": "82c31b64",
   "metadata": {},
   "outputs": [],
   "source": [
    "df['FinancialLiteracy3'].unique()"
   ]
  },
  {
   "cell_type": "code",
   "execution_count": 35,
   "id": "b7fdfbe3",
   "metadata": {},
   "outputs": [],
   "source": [
    "# Define Financial Literacy\n",
    "# Replace missing values in FinancialLiteracy2 with 4 (equivalent to 'I do not know')\n",
    "df[\"FinancialLiteracy2\"] = df[\"FinancialLiteracy2\"].fillna(4)\n",
    "\n",
    "# Create binary variables for correct Financial Literacy answers\n",
    "df[\"FL_1\"] = (df[\"FinancialLiteracy1\"] == 1).astype(int)\n",
    "df[\"FL_2\"] = (df[\"FinancialLiteracy2\"] == 3).astype(int)\n",
    "df[\"FL_3\"] = (df[\"FinancialLiteracy3\"] == 2).astype(int)\n",
    "\n",
    "# Create total Financial Literacy Score\n",
    "df[\"FL_all\"] = df[\"FL_1\"] + df[\"FL_2\"] + df[\"FL_3\"]"
   ]
  },
  {
   "cell_type": "code",
   "execution_count": 36,
   "id": "ab1fb317",
   "metadata": {},
   "outputs": [],
   "source": [
    "df['current_investor']=0\n",
    "df.loc[df['CurrentInvestor'] != 7, 'current_investor'] = 1 \n",
    "\n",
    "df['investor']=0\n",
    "df.loc[(df['Investor'] ==1)  | (df['current_investor'] ==1), 'investor'] = 1\n"
   ]
  },
  {
   "cell_type": "code",
   "execution_count": 37,
   "id": "9bc39849",
   "metadata": {},
   "outputs": [],
   "source": [
    "df.columns = df.columns.str.strip()  "
   ]
  },
  {
   "cell_type": "code",
   "execution_count": 38,
   "id": "2f3d5796",
   "metadata": {},
   "outputs": [],
   "source": [
    "# Vriables Definition Deviation and Belief Updating \n",
    "#True severity values\n",
    "df['True_Poverty_Food']= 30\n",
    "df['True_Poverty_Line']= 47\n",
    "df['True_Economic_Informal']= 55\n",
    "df['True_Economic_Umemploy']= 29\n",
    "df['True_Gender_Parliament'] =26\n",
    "df['True_Gender_WageGap']= 20\n",
    "df['True_Climate_Mortality']= 15\n",
    "df['True_Climate_Emissions']= 50"
   ]
  },
  {
   "cell_type": "code",
   "execution_count": 39,
   "id": "f6e632ba",
   "metadata": {},
   "outputs": [],
   "source": [
    "df[\"Poverty_Line_w\"] = pd.to_numeric(df[\"Poverty_Line_w\"], errors=\"coerce\")"
   ]
  },
  {
   "cell_type": "code",
   "execution_count": 40,
   "id": "2158e5e3",
   "metadata": {},
   "outputs": [],
   "source": [
    "#Deviation from True Beliefs Severity\n",
    "# Signal minus Prior calculations\n",
    "df[\"SignalminusPrior_Poverty_Food\"] = df[\"True_Poverty_Food\"] - df[\"Poverty_Food_w\"]\n",
    "df[\"SignalminusPrior_Poverty_Line\"] = df[\"True_Poverty_Line\"] - df[\"Poverty_Line_w\"]\n",
    "df[\"SignalminusPrior_Unemployment\"] = df[\"True_Economic_Umemploy\"] - df[\"Q_Economic_Umemploy_w\"]\n",
    "df[\"SignalminusPrior_Informal\"] = df[\"True_Economic_Informal\"] - df[\"Q_Economic_Informal_w\"]\n",
    "df[\"SignalminusPrior_Climate_Mortal\"] = df[\"True_Climate_Mortality\"] - df[\"Q_Climate_Mortality_w\"]\n",
    "df[\"SignalminusPrior_Climate_Emiss\"] = df[\"True_Climate_Emissions\"] - df[\"Q_Climate_Emissions_w\"]\n",
    "df[\"SignalminusPrior_Gender_Wage_Gap\"] = df[\"True_Gender_WageGap\"] - df[\"Q_Gender_WageGap_w\"]\n",
    "df[\"SignalminusPrior_Gender_Parl\"] = df[\"True_Gender_Parliament\"] - df[\"Q_Gender_Parliament_w\"]\n"
   ]
  },
  {
   "cell_type": "code",
   "execution_count": 41,
   "id": "159558ab",
   "metadata": {},
   "outputs": [],
   "source": [
    "# Deviation calculations\n",
    "df[\"Dev_Poverty_Food\"] = df[\"Poverty_Food_w\"] - df[\"True_Poverty_Food\"]\n",
    "df[\"Dev_Poverty_Line\"] = df[\"Poverty_Line_w\"] - df[\"True_Poverty_Line\"]\n",
    "df[\"Dev_Unemployment\"] = df[\"Q_Economic_Umemploy_w\"] - df[\"True_Economic_Umemploy\"]\n",
    "df[\"Dev_Informal\"] = df[\"Q_Economic_Informal_w\"] - df[\"True_Economic_Informal\"]\n",
    "df[\"Dev_Climate_Mortality\"] = df[\"Q_Climate_Mortality_w\"] - df[\"True_Climate_Mortality\"]\n",
    "df[\"Dev_Climate_Emissions\"] = df[\"Q_Climate_Emissions_w\"] - df[\"True_Climate_Emissions\"]\n",
    "df[\"Dev_Gender_Wage_Gap\"] = df[\"Q_Gender_WageGap_w\"] - df[\"True_Gender_WageGap\"]\n",
    "df[\"Dev_Gender_Parliament\"] = df[\"True_Gender_Parliament\"] - df[\"Q_Gender_Parliament_w\"]"
   ]
  },
  {
   "cell_type": "code",
   "execution_count": 42,
   "id": "f869890e",
   "metadata": {},
   "outputs": [],
   "source": [
    "# Convert all Deviation columns to numeric\n",
    "dev_columns = [\n",
    "    \"Dev_Climate_Mortality\", \"Dev_Climate_Emissions\",\n",
    "    \"Dev_Poverty_Food\", \"Dev_Poverty_Line\",\n",
    "    \"Dev_Gender_Parliament\", \"Dev_Gender_Wage_Gap\",\n",
    "    \"Dev_Informal\", \"Dev_Unemployment\"]\n",
    "\n",
    "# Ensure all are numeric\n",
    "df[dev_columns] = df[dev_columns].apply(pd.to_numeric, errors=\"coerce\")\n",
    "df=df.apply(pd.to_numeric, errors=\"coerce\")"
   ]
  },
  {
   "cell_type": "code",
   "execution_count": 43,
   "id": "09d59879",
   "metadata": {},
   "outputs": [],
   "source": [
    "# -----------------------------\n",
    "# Absolute average prior beliefs\n",
    "# -----------------------------\n",
    "df[\"Dev_Climate_avg\"] = (df[\"Dev_Climate_Mortality\"] + df[\"Dev_Climate_Emissions\"]) / 2\n",
    "df[\"Dev_Poverty_avg\"] = (df[\"Dev_Poverty_Food\"] + df[\"Dev_Poverty_Line\"]) / 2\n",
    "df[\"Dev_Gender_avg\"] = (df[\"Dev_Gender_Parliament\"] + df[\"Dev_Gender_Wage_Gap\"]) / 2\n",
    "df[\"Dev_Work_avg\"] = (df[\"Dev_Informal\"] + df[\"Dev_Unemployment\"]) / 2\n"
   ]
  },
  {
   "cell_type": "code",
   "execution_count": 44,
   "id": "74ceb8cf",
   "metadata": {},
   "outputs": [],
   "source": [
    "# -----------------------------\n",
    "# Deviation Posterior Beliefs\n",
    "# -----------------------------\n",
    "df[\"Dev_Poverty_Food_Post\"] = df[\"Poverty_Food_Post_w\"] - df[\"True_Poverty_Food\"]\n",
    "df[\"Dev_Poverty_Line_Post\"] = df[\"Poverty_Line_Post_w\"] - df[\"True_Poverty_Line\"]\n",
    "df[\"Dev_Unemployment_Post\"] = df[\"DecentWork_Unem_Post_w\"] - df[\"True_Economic_Umemploy\"]\n",
    "df[\"Dev_Informal_Post\"] = df[\"DecentWork_IEmp_Post_w\"] - df[\"True_Economic_Informal\"]\n",
    "df[\"Dev_Climate_Mortality_Post\"] = df[\"ClimateMortality_Post_w\"] - df[\"True_Climate_Mortality\"]\n",
    "df[\"Dev_Climate_Emissions_Post\"] = df[\"ClimateEmissions_Post_w\"] - df[\"True_Climate_Emissions\"]\n",
    "df[\"Dev_Gender_Wage_Gap_Post\"] = df[\"Gender_Gap_Post_w\"] - df[\"True_Gender_WageGap\"]\n",
    "df[\"Dev_Gender_Parl_Post\"] = df[\"True_Gender_Parliament\"] - df[\"Gender_Parl_Post_w\"]\n"
   ]
  },
  {
   "cell_type": "code",
   "execution_count": 45,
   "id": "99162801",
   "metadata": {},
   "outputs": [],
   "source": [
    "# Convert Deviation columns to numeric\n",
    "dev_columns = [\n",
    "    \"Dev_Climate_Mortality_Post\", \"Dev_Climate_Emissions_Post\",\n",
    "    \"Dev_Poverty_Food_Post\", \"Dev_Poverty_Line_Post\",\n",
    "    \"Dev_Gender_Parl_Post\", \"Dev_Gender_Wage_Gap_Post\",\n",
    "    \"Dev_Informal_Post\", \"Dev_Unemployment_Post\"\n",
    "]\n",
    "\n",
    "# Ensure all are numeric \n",
    "df[dev_columns] = df[dev_columns].apply(pd.to_numeric, errors=\"coerce\")"
   ]
  },
  {
   "cell_type": "code",
   "execution_count": 46,
   "id": "d98466f4",
   "metadata": {},
   "outputs": [],
   "source": [
    "# -----------------------------\n",
    "# Absolute average post beliefs\n",
    "# -----------------------------\n",
    "df[\"Dev_Climate_avg_post\"] = (df[\"Dev_Climate_Mortality_Post\"] + df[\"Dev_Climate_Emissions_Post\"]) / 2\n",
    "df[\"Dev_Poverty_avg_post\"] = (df[\"Dev_Poverty_Food_Post\"] + df[\"Dev_Poverty_Line_Post\"]) / 2\n",
    "df[\"Dev_Gender_avg_post\"] = (df[\"Dev_Gender_Parl_Post\"] + df[\"Dev_Gender_Wage_Gap_Post\"]) / 2\n",
    "df[\"Dev_Work_avg_post\"] = (df[\"Dev_Informal_Post\"] + df[\"Dev_Unemployment_Post\"]) / 2"
   ]
  },
  {
   "cell_type": "code",
   "execution_count": 47,
   "id": "2c65809d",
   "metadata": {},
   "outputs": [],
   "source": [
    "# -----------------------------\n",
    "# Belief Updating Severity\n",
    "# -----------------------------\n",
    "df[\"Updating_Poverty_Food\"] = df[\"Poverty_Food_Post_w\"] - df[\"Poverty_Food_w\"]\n",
    "df[\"Updating_Poverty_Line\"] = df[\"Poverty_Line_Post_w\"] - df[\"Poverty_Line_w\"]\n",
    "df[\"Updating_Unemploy\"] = df[\"DecentWork_Unem_Post_w\"] - df[\"Q_Economic_Umemploy_w\"]\n",
    "df[\"Updating_Informal\"] = df[\"DecentWork_IEmp_Post_w\"] - df[\"Q_Economic_Informal_w\"]\n",
    "df[\"Updating_Gender_WageGap\"] = df[\"Gender_Gap_Post_w\"] - df[\"Q_Gender_WageGap_w\"]\n",
    "df[\"Updating_Gender_Parliament\"] = df[\"Gender_Parl_Post_w\"] - df[\"Q_Gender_Parliament\"]\n",
    "df[\"Updating_Climate_Mortality\"] = df[\"ClimateMortality_Post_w\"] - df[\"Q_Climate_Mortality_w\"]\n",
    "df[\"Updating_Climate_Emissions\"] = df[\"ClimateEmissions_Post_w\"] - df[\"Q_Climate_Emissions_w\"]\n"
   ]
  },
  {
   "cell_type": "code",
   "execution_count": 48,
   "id": "f883abba",
   "metadata": {},
   "outputs": [],
   "source": [
    "# ---------------------------------------\n",
    "# Generate standardized propensities\n",
    "# ---------------------------------------\n",
    "\n",
    "invest_cols = [\"Q_Willingness_Invest_1\", \"Q_Willingness_Invest_2\", \n",
    "               \"Q_Willingness_Invest_3\", \"Q_Willingness_Invest_4\"]\n",
    "\n",
    "df[[f\"{col}_std\" for col in invest_cols]] = df[invest_cols].apply(lambda x: zscore(x, ddof=1))\n",
    "\n",
    "# ---------------------------------------\n",
    "# Generate standardized prior effectiveness beliefs\n",
    "# ---------------------------------------\n",
    "\n",
    "prior_invest_cols = [\"Q_Prior_InvestImpact_1\", \"Q_Prior_InvestImpact_2\", \n",
    "                     \"Q_Prior_InvestImpact_3\", \"Q_Prior_InvestImpact_4\"]\n",
    "\n",
    "df[[f\"{col}_std\" for col in prior_invest_cols]] = df[prior_invest_cols].apply(lambda x: zscore(x, ddof=1))\n",
    "\n",
    "# ---------------------------------------\n",
    "# Generate standardized posterior effectiveness beliefs\n",
    "# ---------------------------------------\n",
    "\n",
    "effectiveness_post_cols = [\"Effectiveness_Post_1\", \"Effectiveness_Post_2\", \n",
    "                           \"Effectiveness_Post_3\", \"Effectiveness_Post_4\"]\n",
    "\n",
    "df[[f\"{col}_std\" for col in effectiveness_post_cols]] = df[effectiveness_post_cols].apply(lambda x: zscore(x, ddof=1))\n",
    "\n",
    "# ---------------------------------------\n",
    "# Generate standardized posterior severity beliefs\n",
    "# ---------------------------------------\n",
    "\n",
    "severity_cols = [\"Q_Severity_Assess_1\", \"Q_Severity_Assess_2\", \n",
    "                 \"Q_Severity_Assess_3\", \"Q_Severity_Assess_4\"]\n",
    "\n",
    "df[[f\"{col}_std\" for col in severity_cols]] = df[severity_cols].apply(lambda x: zscore(x, ddof=1))\n",
    "\n",
    "# ---------------------------------------\n",
    "# Generate standardized policy support variable\n",
    "# ---------------------------------------\n",
    "\n",
    "df[\"Q_Policy_Support_std\"] = zscore(df[\"Q_Policy_Support_1\"], ddof=1)\n"
   ]
  },
  {
   "cell_type": "code",
   "execution_count": 49,
   "id": "ddb66fca",
   "metadata": {},
   "outputs": [],
   "source": [
    "# Dictionary to store variable labels\n",
    "variable_labels = {\n",
    "    \"Condition\": \"Treatment\",\n",
    "    \"Gender\": \"Female\",\n",
    "    \"High_Education\": \"High Education\",\n",
    "    \"High_Income\": \"High Income\",\n",
    "    \"social_preferences\": \"Social Preferences\",\n",
    "    \"SocialPreferences1_1_std\": \"Social Preferences 1\",\n",
    "    \"SocialPreferenceDona_1_std\": \"Social Preferences 2\",\n",
    "    \"Social_Preferences_std\": \"Social Preferences\",\n",
    "    \"RiskPreferences_1_std\": \"Risk Preferences\",\n",
    "    \"TimePreferences_1_std\": \"Time Preferences\",\n",
    "    \"Awareness_SustainInv\": \"Awareness SRI\",\n",
    "    \"investor\": \"Investor\",\n",
    "    \"FL_all\": \"Financial Literacy\",\n",
    "    \"Q_Prior_InvestImpact_1_std\": \"Prior Effectiveness Poverty\",\n",
    "    \"Q_Prior_InvestImpact_2_std\": \"Prior Effectiveness Decent Work\",\n",
    "    \"Q_Prior_InvestImpact_3_std\": \"Prior Effectiveness Gender Equality\",\n",
    "    \"Q_Prior_InvestImpact_4_std\": \"Prior Effectiveness Climate Change\",\n",
    "    \"Dev_Poverty_avg\": \"Prior Poverty Severity\",\n",
    "    \"Dev_Work_avg\": \"Prior Decent Work Severity\",\n",
    "    \"Dev_Gender_avg\": \"Prior Gender Equality Severity\",\n",
    "    \"Dev_Climate_avg\": \"Prior Climate Change Severity\",\n",
    "    \"General_Attitude_SRI_1\": \"'Immunity' towards Issues in Own Country\",\n",
    "    \"General_Attitude_SRI_2\": \"Own Country Suffers from Selected Issues\",\n",
    "    \"General_Attitude_SRI_3\": \"Responsibility of Developed Countries/Development Organizations\",\n",
    "    \"General_Attitude_SRI_4\": \"Feel Responsible for Sustainable Development\",\n",
    "    \"General_Attitude_SRI_5\": \"Requirement for Immediate Action\"\n",
    "}"
   ]
  },
  {
   "cell_type": "code",
   "execution_count": 50,
   "id": "6ec51b02",
   "metadata": {},
   "outputs": [],
   "source": [
    "df.to_csv(\"transformed_data.csv\", index=False)"
   ]
  },
  {
   "cell_type": "code",
   "execution_count": 69,
   "id": "07650768",
   "metadata": {},
   "outputs": [],
   "source": [
    "#Summary Statistics \n",
    "#List of variables to summarize\n",
    "summary_vars = [\n",
    "    \"Gender\", \"Age\", \"High_Income\", \"SocialPreferences1_1\", \"SocialPreferenceDona_1\",\n",
    "    \"RiskPreferences_1\", \"Timepreferences_1\", \"FL_all\", \"Awareness_SustainInv\",\n",
    "    \"investor\", \"ShareSustainInvest\"\n",
    "]\n",
    "\n",
    "# Compute summary statistics (mean, std, min, max, count)\n",
    "summary_table = df[summary_vars].describe().T  # Transpose for correct format\n",
    "summary_table[\"count\"] = df[summary_vars].count()  # Add count column\n",
    "\n",
    "# Select and reorder relevant columns\n",
    "summary_table = summary_table[[\"count\", \"mean\", \"std\", \"min\", \"max\"]]\n",
    "\n",
    "# Rename columns to match Stata esttab format\n",
    "summary_table.columns = [\"N\", \"Mean\", \"SD\", \"Min\", \"Max\"]\n",
    "\n",
    "# Format numeric values (2 decimals for Mean/SD, 0 for Min/Max)\n",
    "summary_table = summary_table.round({\"Mean\": 2, \"SD\": 2, \"Min\": 0, \"Max\": 0})\n",
    "\n",
    "# Rename rows (variable labels)\n",
    "var_labels = {\n",
    "    \"Age\": \"Age\",\n",
    "    \"Gender\": \"Female\",\n",
    "    \"High_Income\": \"High Income\",\n",
    "    \"SocialPreferences1_1\": \"Social Preferences\",\n",
    "    \"SocialPreferenceDona_1\": \"Hypothetical Donation\",\n",
    "    \"RiskPreferences_1\": \"Risk Preferences\",\n",
    "    \"Timepreferences_1\": \"Time Preferences\",\n",
    "    \"FL_all\": \"Financial Literacy\",\n",
    "    \"Awareness_SustainInv\": \"Awareness SRI\",\n",
    "    \"investor\": \"Investor\",\n",
    "    \"ShareSustainInvest\": \"Share SRI\"\n",
    "}\n",
    "\n",
    "summary_table.index = summary_table.index.map(lambda x: var_labels.get(x, x))  # Apply labels"
   ]
  },
  {
   "cell_type": "code",
   "execution_count": 71,
   "id": "0e2c0b8c",
   "metadata": {},
   "outputs": [],
   "source": [
    "# Export summary statistics to Latex\n",
    "latex_table = summary_table.to_latex(\n",
    "    index=True,          \n",
    "    caption=\"Summary Statistics\\\\label{tabsummarystat}\",  # Add caption\n",
    "    column_format=\"lccccc\",  # Align columns\n",
    "    escape=False,        # Allow LaTeX special characters\n",
    "    bold_rows=True,      # Bold variable names\n",
    "    longtable=True       # Allow long tables if needed\n",
    ")\n",
    "\n",
    "# Save Latex Document\n",
    "with open(\"sumtable.tex\", \"w\", encoding=\"utf-8\") as file:\n",
    "    file.write(latex_table)"
   ]
  }
 ],
 "metadata": {
  "kernelspec": {
   "display_name": "Python 3",
   "language": "python",
   "name": "python3"
  },
  "language_info": {
   "codemirror_mode": {
    "name": "ipython",
    "version": 3
   },
   "file_extension": ".py",
   "mimetype": "text/x-python",
   "name": "python",
   "nbconvert_exporter": "python",
   "pygments_lexer": "ipython3",
   "version": "3.8.8"
  }
 },
 "nbformat": 4,
 "nbformat_minor": 5
}
